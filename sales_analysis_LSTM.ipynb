{
 "cells": [
  {
   "cell_type": "markdown",
   "metadata": {},
   "source": [
    "1. Cuales son los meses de mayores ventas en general\n",
    "2. Cuales son los platos que más se venden\n",
    "3. En qué época se vende más cada plato\n",
    "4. Cuales son las horas de mayor tráfico\n",
    "5. Cuales son los platos que menos venden\n",
    "\n",
    "Estas preguntas necesito responderlas porque quiero proyectar a \n",
    "futuro las ventas por cada plato con el fin de proyectar también \n",
    "los pedidos que debo hacer a mis proveedores basado en esa información \n",
    "\"estacional\"."
   ]
  },
  {
   "cell_type": "code",
   "execution_count": 1,
   "metadata": {},
   "outputs": [],
   "source": [
    "import pandas as pd"
   ]
  },
  {
   "cell_type": "code",
   "execution_count": 2,
   "metadata": {},
   "outputs": [],
   "source": [
    "ruta = 'Data/Sales_Reports/reporte de ventas restaurante/Balaji Fast Food Sales.csv'\n",
    "df = pd.read_csv(ruta)"
   ]
  },
  {
   "cell_type": "markdown",
   "metadata": {},
   "source": [
    "Mostrar las primeras filas del DataFrame y la información de las columnas"
   ]
  },
  {
   "cell_type": "code",
   "execution_count": 3,
   "metadata": {},
   "outputs": [
    {
     "name": "stdout",
     "output_type": "stream",
     "text": [
      "<class 'pandas.core.frame.DataFrame'>\n",
      "RangeIndex: 1000 entries, 0 to 999\n",
      "Data columns (total 10 columns):\n",
      " #   Column              Non-Null Count  Dtype \n",
      "---  ------              --------------  ----- \n",
      " 0   order_id            1000 non-null   int64 \n",
      " 1   date                1000 non-null   object\n",
      " 2   item_name           1000 non-null   object\n",
      " 3   item_type           1000 non-null   object\n",
      " 4   item_price          1000 non-null   int64 \n",
      " 5   quantity            1000 non-null   int64 \n",
      " 6   transaction_amount  1000 non-null   int64 \n",
      " 7   transaction_type    893 non-null    object\n",
      " 8   received_by         1000 non-null   object\n",
      " 9   time_of_sale        1000 non-null   object\n",
      "dtypes: int64(4), object(6)\n",
      "memory usage: 78.2+ KB\n",
      "None\n",
      "------------------------------------------------------------------------------------------------------------------------------------------------------\n",
      "   order_id        date        item_name  item_type  item_price  quantity  \\\n",
      "0         1  07-03-2022         Aalopuri   Fastfood          20        13   \n",
      "1         2   8/23/2022          Vadapav   Fastfood          20        15   \n",
      "2         3  11/20/2022          Vadapav   Fastfood          20         1   \n",
      "3         4  02-03-2023  Sugarcane juice  Beverages          25         6   \n",
      "4         5  10-02-2022  Sugarcane juice  Beverages          25         8   \n",
      "\n",
      "   transaction_amount transaction_type received_by time_of_sale  \n",
      "0                 260              NaN         Mr.        Night  \n",
      "1                 300             Cash         Mr.    Afternoon  \n",
      "2                  20             Cash         Mr.    Afternoon  \n",
      "3                 150           Online         Mr.        Night  \n",
      "4                 200           Online         Mr.      Evening  \n"
     ]
    }
   ],
   "source": [
    "print(df.info())\n",
    "print('-'*150)\n",
    "print(df.head())"
   ]
  },
  {
   "cell_type": "markdown",
   "metadata": {},
   "source": [
    "Estas son las columnas:\n",
    "\n",
    "**order_id**: ID del pedido.\n",
    "**date**: Fecha del pedido.\n",
    "**item_name**: Nombre del plato.\n",
    "**item_type**: Tipo de plato (por ejemplo, Fastfood, Beverages).\n",
    "**item_price**: Precio del plato.\n",
    "**quantity**: Cantidad pedida.\n",
    "**transaction_amount**: Monto de la transacción.\n",
    "**transaction_type**: Tipo de transacción (por ejemplo, Cash, Online).\n",
    "**received_by**: Persona que recibió el pedido.\n",
    "**time_of_sale**: Hora del día de la venta (por ejemplo, Morning, Afternoon, Evening, Night)."
   ]
  },
  {
   "cell_type": "markdown",
   "metadata": {},
   "source": [
    "## Se procede a responder preguntas"
   ]
  },
  {
   "cell_type": "code",
   "execution_count": 4,
   "metadata": {},
   "outputs": [],
   "source": [
    "data = df.copy()"
   ]
  },
  {
   "cell_type": "code",
   "execution_count": 5,
   "metadata": {},
   "outputs": [
    {
     "name": "stdout",
     "output_type": "stream",
     "text": [
      "Ventas totales por mes:\n",
      "month\n",
      "1     28670\n",
      "10    27205\n",
      "5     26570\n",
      "2     25595\n",
      "3     25390\n",
      "12    23460\n",
      "11    22900\n",
      "8     22305\n",
      "7     19490\n",
      "9     18640\n",
      "4     17670\n",
      "6     17335\n",
      "Name: transaction_amount, dtype: int64\n",
      "------------------------------------------------------------------------------------------------------------------------------------------------------\n",
      "\n",
      "Platos más vendidos:\n",
      "item_name\n",
      "Cold coffee        1361\n",
      "Sugarcane juice    1278\n",
      "Panipuri           1226\n",
      "Frankie            1150\n",
      "Sandwich           1097\n",
      "Aalopuri           1044\n",
      "Vadapav            1006\n",
      "Name: quantity, dtype: int64\n",
      "------------------------------------------------------------------------------------------------------------------------------------------------------\n",
      "\n",
      "Platos que menos venden:\n",
      "item_name\n",
      "Vadapav            1006\n",
      "Aalopuri           1044\n",
      "Sandwich           1097\n",
      "Frankie            1150\n",
      "Panipuri           1226\n",
      "Sugarcane juice    1278\n",
      "Cold coffee        1361\n",
      "Name: quantity, dtype: int64\n",
      "------------------------------------------------------------------------------------------------------------------------------------------------------\n",
      "\n",
      "Ventas de platos por temporada:\n",
      "item_name        season\n",
      "Cold coffee      1         396\n",
      "                 4         377\n",
      "Frankie          1         375\n",
      "Sugarcane juice  1         371\n",
      "Panipuri         4         343\n",
      "Aalopuri         2         335\n",
      "Panipuri         3         330\n",
      "Cold coffee      2         330\n",
      "Sugarcane juice  3         326\n",
      "Sandwich         2         315\n",
      "Sugarcane juice  4         301\n",
      "Sandwich         1         299\n",
      "Panipuri         1         297\n",
      "Sugarcane juice  2         280\n",
      "Frankie          4         278\n",
      "Vadapav          2         273\n",
      "Frankie          2         265\n",
      "Vadapav          1         264\n",
      "Sandwich         4         260\n",
      "Cold coffee      3         258\n",
      "Panipuri         2         256\n",
      "Aalopuri         4         249\n",
      "Vadapav          4         240\n",
      "Aalopuri         1         235\n",
      "Frankie          3         232\n",
      "Vadapav          3         229\n",
      "Aalopuri         3         225\n",
      "Sandwich         3         223\n",
      "Name: quantity, dtype: int64\n",
      "------------------------------------------------------------------------------------------------------------------------------------------------------\n",
      "\n",
      "Horas con mayor tráfico:\n",
      "time_of_sale\n",
      "Afternoon    205\n",
      "Night        205\n",
      "Evening      201\n",
      "Midnight     199\n",
      "Morning      190\n",
      "Name: order_id, dtype: int64\n"
     ]
    }
   ],
   "source": [
    "# Convertir la columna 'date' al formato de fecha\n",
    "data['date'] = pd.to_datetime(data['date'], errors='coerce')\n",
    "\n",
    "# 1. Meses con mayores ventas en general\n",
    "data['month'] = data['date'].dt.month\n",
    "ventas_por_mes = data.groupby('month')['transaction_amount'].sum().sort_values(ascending=False)\n",
    "\n",
    "# 2. Platos que más se venden\n",
    "ventas_por_plato = data.groupby('item_name')['quantity'].sum().sort_values(ascending=False)\n",
    "\n",
    "# 3. Época en que más se vende cada plato\n",
    "data['season'] = data['date'].dt.month % 12 // 3 + 1\n",
    "ventas_por_plato_y_temporada = data.groupby(['item_name', 'season'])['quantity'].sum().sort_values(ascending=False)\n",
    "\n",
    "# 4. Horas del día con mayor tráfico\n",
    "ventas_por_hora = data.groupby('time_of_sale')['order_id'].count().sort_values(ascending=False)\n",
    "\n",
    "# 5. Platos que menos venden\n",
    "menos_ventas_por_plato = data.groupby('item_name')['quantity'].sum().sort_values(ascending=True)\n",
    "\n",
    "print(\"Ventas totales por mes:\")\n",
    "print(ventas_por_mes)\n",
    "print('-'*150)\n",
    "print(\"\\nPlatos más vendidos:\")\n",
    "print(ventas_por_plato)\n",
    "print('-'*150)\n",
    "print(\"\\nPlatos que menos venden:\")\n",
    "print(menos_ventas_por_plato)\n",
    "print('-'*150)\n",
    "print(\"\\nVentas de platos por temporada:\")\n",
    "print(ventas_por_plato_y_temporada)\n",
    "print('-'*150)\n",
    "print(\"\\nHoras con mayor tráfico:\")\n",
    "print(ventas_por_hora)"
   ]
  },
  {
   "cell_type": "markdown",
   "metadata": {},
   "source": [
    "## Proyecciones de ventas por plato"
   ]
  },
  {
   "cell_type": "code",
   "execution_count": 6,
   "metadata": {},
   "outputs": [
    {
     "name": "stderr",
     "output_type": "stream",
     "text": [
      "2024-04-30 15:00:35.892074: I tensorflow/core/platform/cpu_feature_guard.cc:182] This TensorFlow binary is optimized to use available CPU instructions in performance-critical operations.\n",
      "To enable the following instructions: SSE4.1 SSE4.2 AVX AVX2 FMA, in other operations, rebuild TensorFlow with the appropriate compiler flags.\n",
      "/home/samueltg92/.local/lib/python3.8/site-packages/requests/__init__.py:102: RequestsDependencyWarning: urllib3 (2.1.0) or chardet (None)/charset_normalizer (2.0.11) doesn't match a supported version!\n",
      "  warnings.warn(\"urllib3 ({}) or chardet ({})/charset_normalizer ({}) doesn't match a supported \"\n"
     ]
    }
   ],
   "source": [
    "import numpy as np\n",
    "import pandas as pd\n",
    "from sklearn.preprocessing import MinMaxScaler\n",
    "from sklearn.model_selection import train_test_split\n",
    "from tensorflow.keras.models import Sequential\n",
    "from tensorflow.keras.layers import LSTM, Dense, Dropout\n",
    "from tensorflow.keras.regularizers import l2\n",
    "from sklearn.metrics import mean_squared_error\n",
    "import matplotlib.pyplot as plt"
   ]
  },
  {
   "cell_type": "code",
   "execution_count": 49,
   "metadata": {},
   "outputs": [
    {
     "name": "stdout",
     "output_type": "stream",
     "text": [
      "['Sandwich' 'Cold coffee' 'Panipuri' 'Aalopuri' 'Frankie' 'Vadapav'\n",
      " 'Sugarcane juice']\n"
     ]
    }
   ],
   "source": [
    "# Asegurar que los datos estén ordenados por fecha\n",
    "data.sort_values('date', inplace=True)\n",
    "\n",
    "unique_items = data['item_name'].unique() # platos disponibles\n",
    "\n",
    "print(unique_items)"
   ]
  },
  {
   "cell_type": "markdown",
   "metadata": {},
   "source": [
    "Datos estadisticos descriptivos"
   ]
  },
  {
   "cell_type": "code",
   "execution_count": 50,
   "metadata": {},
   "outputs": [
    {
     "name": "stdout",
     "output_type": "stream",
     "text": [
      "Estadísticas para Sandwich:\n",
      "count    129.000000\n",
      "mean       8.503876\n",
      "std        4.460108\n",
      "min        1.000000\n",
      "25%        5.000000\n",
      "50%        8.000000\n",
      "75%       13.000000\n",
      "max       15.000000\n",
      "Name: quantity, dtype: float64\n",
      "Skewness: -0.12633479967743055\n",
      "Kurtosis: -1.140407212506498\n",
      "\n",
      "\n",
      "Estadísticas para Cold coffee:\n",
      "count    161.000000\n",
      "mean       8.453416\n",
      "std        4.217449\n",
      "min        1.000000\n",
      "25%        5.000000\n",
      "50%        9.000000\n",
      "75%       12.000000\n",
      "max       15.000000\n",
      "Name: quantity, dtype: float64\n",
      "Skewness: -0.16680017525126586\n",
      "Kurtosis: -1.1103556613935672\n",
      "\n",
      "\n",
      "Estadísticas para Panipuri:\n",
      "count    150.000000\n",
      "mean       8.173333\n",
      "std        4.366970\n",
      "min        1.000000\n",
      "25%        5.000000\n",
      "50%        9.000000\n",
      "75%       12.000000\n",
      "max       15.000000\n",
      "Name: quantity, dtype: float64\n",
      "Skewness: -0.1392077646858942\n",
      "Kurtosis: -1.2730061408051585\n",
      "\n",
      "\n",
      "Estadísticas para Aalopuri:\n",
      "count    134.000000\n",
      "mean       7.791045\n",
      "std        4.787318\n",
      "min        1.000000\n",
      "25%        3.000000\n",
      "50%        8.000000\n",
      "75%       12.000000\n",
      "max       15.000000\n",
      "Name: quantity, dtype: float64\n",
      "Skewness: 0.04215769764017942\n",
      "Kurtosis: -1.4797421044691812\n",
      "\n",
      "\n",
      "Estadísticas para Frankie:\n",
      "count    139.000000\n",
      "mean       8.273381\n",
      "std        4.048270\n",
      "min        1.000000\n",
      "25%        5.000000\n",
      "50%        8.000000\n",
      "75%       12.000000\n",
      "max       15.000000\n",
      "Name: quantity, dtype: float64\n",
      "Skewness: 0.010451507324823962\n",
      "Kurtosis: -1.0384055660005318\n",
      "\n",
      "\n",
      "Estadísticas para Vadapav:\n",
      "count    134.000000\n",
      "mean       7.507463\n",
      "std        4.466662\n",
      "min        1.000000\n",
      "25%        3.000000\n",
      "50%        7.000000\n",
      "75%       11.000000\n",
      "max       15.000000\n",
      "Name: quantity, dtype: float64\n",
      "Skewness: 0.25753762788233026\n",
      "Kurtosis: -1.1801233012662335\n",
      "\n",
      "\n",
      "Estadísticas para Sugarcane juice:\n",
      "count    153.000000\n",
      "mean       8.352941\n",
      "std        4.550117\n",
      "min        1.000000\n",
      "25%        5.000000\n",
      "50%        8.000000\n",
      "75%       13.000000\n",
      "max       15.000000\n",
      "Name: quantity, dtype: float64\n",
      "Skewness: -0.15049647138760844\n",
      "Kurtosis: -1.2742754934380054\n",
      "\n",
      "\n"
     ]
    }
   ],
   "source": [
    "for item in unique_items:\n",
    "    # Filtrar datos para el plato actual\n",
    "    item_data = data[data['item_name'] == item]\n",
    "    \n",
    "    # Calcular estadísticas descriptivas\n",
    "    statistics = item_data['quantity'].describe()\n",
    "    skewness = item_data['quantity'].skew()\n",
    "    kurtosis = item_data['quantity'].kurt()\n",
    "    \n",
    "    # Imprimir las estadísticas\n",
    "    print(f\"Estadísticas para {item}:\")\n",
    "    print(statistics)\n",
    "    print(f\"Skewness: {skewness}\")  # Asimetría\n",
    "    print(f\"Kurtosis: {kurtosis}\")  # Curtosis\n",
    "    print(\"\\n\")  # Agrega una línea en blanco para separar cada plato"
   ]
  },
  {
   "cell_type": "markdown",
   "metadata": {},
   "source": [
    "## Preparar datos"
   ]
  },
  {
   "cell_type": "code",
   "execution_count": 66,
   "metadata": {},
   "outputs": [],
   "source": [
    "item_data = data[data['item_name'] == 'Sandwich'].copy()\n",
    "\n",
    "# Crear características de estacionalidad, por ejemplo, lags y medias móviles\n",
    "item_data['prev_day_quantity'] = item_data['quantity'].shift(1).fillna(0)\n",
    "item_data['rolling_mean'] = item_data['quantity'].rolling(window=10).mean().fillna(0) # Estacionalidad semanal\n",
    "\n",
    "# Escalar características\n",
    "scaler = MinMaxScaler(feature_range=(0, 1))\n",
    "item_data_scaled = scaler.fit_transform(item_data[['quantity', 'prev_day_quantity', 'rolling_mean']])\n",
    "\n",
    "num_features = item_data_scaled.shape[1]\n",
    "\n",
    "# Preparar datos para LSTM: secuencias de entrada y salida\n",
    "def create_dataset(dataset, look_back=1):\n",
    "    X, Y = [], []\n",
    "    for i in range(len(dataset) - look_back - 1):\n",
    "        a = dataset[i:(i + look_back), :]\n",
    "        X.append(a)\n",
    "        Y.append(dataset[i + look_back, 0])\n",
    "    return np.array(X), np.array(Y)\n",
    "\n",
    "look_back = 30  # Usar una semana de datos para predecir el siguiente día - *|*|*|*|*|*|*|*|*|*|*|*|*|*|*|*|*|*|*|*|*|*|*|*|*\n",
    "X, y = create_dataset(item_data_scaled, look_back)\n",
    "\n",
    "# Dividir datos en entrenamiento y prueba\n",
    "X_train, X_test, y_train, y_test = train_test_split(X, y, test_size=0.2, random_state=42)"
   ]
  },
  {
   "cell_type": "markdown",
   "metadata": {},
   "source": [
    "## Construcción del Modelo"
   ]
  },
  {
   "cell_type": "markdown",
   "metadata": {},
   "source": [
    "LSTM"
   ]
  },
  {
   "cell_type": "code",
   "execution_count": null,
   "metadata": {},
   "outputs": [],
   "source": [
    "# # Construir modelo LSTM con Dropout y regularización L2\n",
    "# model = Sequential()\n",
    "# model.add(LSTM(100, input_shape=(X_train.shape[1], X_train.shape[2]), return_sequences=True))\n",
    "# model.add(Dropout(0.2))\n",
    "# model.add(LSTM(50, return_sequences=False, kernel_regularizer=l2(0.01)))\n",
    "# model.add(Dense(1))\n",
    "\n",
    "# # Compilar el modelo\n",
    "# model.compile(optimizer='adam', loss='mean_squared_error')\n",
    "\n",
    "# # Entrenar el modelo\n",
    "# model.fit(X_train, y_train, epochs=50, batch_size=10, verbose=2)"
   ]
  },
  {
   "cell_type": "markdown",
   "metadata": {},
   "source": [
    "CNN (Convutional Neural Networks)"
   ]
  },
  {
   "cell_type": "code",
   "execution_count": 89,
   "metadata": {},
   "outputs": [
    {
     "name": "stdout",
     "output_type": "stream",
     "text": [
      "Epoch 1/100\n",
      "2/2 - 1s - loss: 0.3591 - 932ms/epoch - 466ms/step\n",
      "Epoch 2/100\n",
      "2/2 - 0s - loss: 0.1156 - 85ms/epoch - 42ms/step\n",
      "Epoch 3/100\n",
      "2/2 - 0s - loss: 0.1532 - 40ms/epoch - 20ms/step\n",
      "Epoch 4/100\n",
      "2/2 - 0s - loss: 0.1682 - 52ms/epoch - 26ms/step\n",
      "Epoch 5/100\n",
      "2/2 - 0s - loss: 0.1295 - 66ms/epoch - 33ms/step\n",
      "Epoch 6/100\n",
      "2/2 - 0s - loss: 0.1053 - 99ms/epoch - 50ms/step\n",
      "Epoch 7/100\n",
      "2/2 - 0s - loss: 0.1112 - 112ms/epoch - 56ms/step\n",
      "Epoch 8/100\n",
      "2/2 - 0s - loss: 0.1212 - 55ms/epoch - 28ms/step\n",
      "Epoch 9/100\n",
      "2/2 - 0s - loss: 0.1215 - 91ms/epoch - 45ms/step\n",
      "Epoch 10/100\n",
      "2/2 - 0s - loss: 0.1135 - 40ms/epoch - 20ms/step\n",
      "Epoch 11/100\n",
      "2/2 - 0s - loss: 0.1039 - 17ms/epoch - 8ms/step\n",
      "Epoch 12/100\n",
      "2/2 - 0s - loss: 0.0996 - 29ms/epoch - 15ms/step\n",
      "Epoch 13/100\n",
      "2/2 - 0s - loss: 0.0997 - 22ms/epoch - 11ms/step\n",
      "Epoch 14/100\n",
      "2/2 - 0s - loss: 0.1012 - 37ms/epoch - 18ms/step\n",
      "Epoch 15/100\n",
      "2/2 - 0s - loss: 0.1017 - 53ms/epoch - 26ms/step\n",
      "Epoch 16/100\n",
      "2/2 - 0s - loss: 0.0995 - 12ms/epoch - 6ms/step\n",
      "Epoch 17/100\n",
      "2/2 - 0s - loss: 0.0956 - 54ms/epoch - 27ms/step\n",
      "Epoch 18/100\n",
      "2/2 - 0s - loss: 0.0914 - 12ms/epoch - 6ms/step\n",
      "Epoch 19/100\n",
      "2/2 - 0s - loss: 0.0888 - 46ms/epoch - 23ms/step\n",
      "Epoch 20/100\n",
      "2/2 - 0s - loss: 0.0903 - 37ms/epoch - 19ms/step\n",
      "Epoch 21/100\n",
      "2/2 - 0s - loss: 0.0916 - 24ms/epoch - 12ms/step\n",
      "Epoch 22/100\n",
      "2/2 - 0s - loss: 0.0881 - 23ms/epoch - 12ms/step\n",
      "Epoch 23/100\n",
      "2/2 - 0s - loss: 0.0830 - 30ms/epoch - 15ms/step\n",
      "Epoch 24/100\n",
      "2/2 - 0s - loss: 0.0851 - 30ms/epoch - 15ms/step\n",
      "Epoch 25/100\n",
      "2/2 - 0s - loss: 0.0920 - 14ms/epoch - 7ms/step\n",
      "Epoch 26/100\n",
      "2/2 - 0s - loss: 0.0935 - 51ms/epoch - 26ms/step\n",
      "Epoch 27/100\n",
      "2/2 - 0s - loss: 0.0867 - 11ms/epoch - 5ms/step\n",
      "Epoch 28/100\n",
      "2/2 - 0s - loss: 0.0784 - 57ms/epoch - 29ms/step\n",
      "Epoch 29/100\n",
      "2/2 - 0s - loss: 0.0771 - 58ms/epoch - 29ms/step\n",
      "Epoch 30/100\n",
      "2/2 - 0s - loss: 0.0798 - 66ms/epoch - 33ms/step\n",
      "Epoch 31/100\n",
      "2/2 - 0s - loss: 0.0809 - 66ms/epoch - 33ms/step\n",
      "Epoch 32/100\n",
      "2/2 - 0s - loss: 0.0774 - 35ms/epoch - 18ms/step\n",
      "Epoch 33/100\n",
      "2/2 - 0s - loss: 0.0719 - 66ms/epoch - 33ms/step\n",
      "Epoch 34/100\n",
      "2/2 - 0s - loss: 0.0706 - 50ms/epoch - 25ms/step\n",
      "Epoch 35/100\n",
      "2/2 - 0s - loss: 0.0714 - 40ms/epoch - 20ms/step\n",
      "Epoch 36/100\n",
      "2/2 - 0s - loss: 0.0709 - 45ms/epoch - 23ms/step\n",
      "Epoch 37/100\n",
      "2/2 - 0s - loss: 0.0670 - 51ms/epoch - 25ms/step\n",
      "Epoch 38/100\n",
      "2/2 - 0s - loss: 0.0646 - 38ms/epoch - 19ms/step\n",
      "Epoch 39/100\n",
      "2/2 - 0s - loss: 0.0645 - 38ms/epoch - 19ms/step\n",
      "Epoch 40/100\n",
      "2/2 - 0s - loss: 0.0644 - 74ms/epoch - 37ms/step\n",
      "Epoch 41/100\n",
      "2/2 - 0s - loss: 0.0615 - 57ms/epoch - 29ms/step\n",
      "Epoch 42/100\n",
      "2/2 - 0s - loss: 0.0594 - 62ms/epoch - 31ms/step\n",
      "Epoch 43/100\n",
      "2/2 - 0s - loss: 0.0599 - 41ms/epoch - 20ms/step\n",
      "Epoch 44/100\n",
      "2/2 - 0s - loss: 0.0589 - 64ms/epoch - 32ms/step\n",
      "Epoch 45/100\n",
      "2/2 - 0s - loss: 0.0559 - 36ms/epoch - 18ms/step\n",
      "Epoch 46/100\n",
      "2/2 - 0s - loss: 0.0559 - 26ms/epoch - 13ms/step\n",
      "Epoch 47/100\n",
      "2/2 - 0s - loss: 0.0555 - 53ms/epoch - 27ms/step\n",
      "Epoch 48/100\n",
      "2/2 - 0s - loss: 0.0539 - 46ms/epoch - 23ms/step\n",
      "Epoch 49/100\n",
      "2/2 - 0s - loss: 0.0520 - 43ms/epoch - 21ms/step\n",
      "Epoch 50/100\n",
      "2/2 - 0s - loss: 0.0506 - 72ms/epoch - 36ms/step\n",
      "Epoch 51/100\n",
      "2/2 - 0s - loss: 0.0496 - 132ms/epoch - 66ms/step\n",
      "Epoch 52/100\n",
      "2/2 - 0s - loss: 0.0497 - 151ms/epoch - 75ms/step\n",
      "Epoch 53/100\n",
      "2/2 - 0s - loss: 0.0483 - 64ms/epoch - 32ms/step\n",
      "Epoch 54/100\n",
      "2/2 - 0s - loss: 0.0474 - 66ms/epoch - 33ms/step\n",
      "Epoch 55/100\n",
      "2/2 - 0s - loss: 0.0469 - 66ms/epoch - 33ms/step\n",
      "Epoch 56/100\n",
      "2/2 - 0s - loss: 0.0453 - 65ms/epoch - 33ms/step\n",
      "Epoch 57/100\n",
      "2/2 - 0s - loss: 0.0450 - 35ms/epoch - 18ms/step\n",
      "Epoch 58/100\n",
      "2/2 - 0s - loss: 0.0449 - 21ms/epoch - 11ms/step\n",
      "Epoch 59/100\n",
      "2/2 - 0s - loss: 0.0435 - 38ms/epoch - 19ms/step\n",
      "Epoch 60/100\n",
      "2/2 - 0s - loss: 0.0419 - 57ms/epoch - 29ms/step\n",
      "Epoch 61/100\n",
      "2/2 - 0s - loss: 0.0413 - 25ms/epoch - 12ms/step\n",
      "Epoch 62/100\n",
      "2/2 - 0s - loss: 0.0408 - 51ms/epoch - 26ms/step\n",
      "Epoch 63/100\n",
      "2/2 - 0s - loss: 0.0398 - 62ms/epoch - 31ms/step\n",
      "Epoch 64/100\n",
      "2/2 - 0s - loss: 0.0388 - 77ms/epoch - 39ms/step\n",
      "Epoch 65/100\n",
      "2/2 - 0s - loss: 0.0378 - 78ms/epoch - 39ms/step\n",
      "Epoch 66/100\n",
      "2/2 - 0s - loss: 0.0368 - 32ms/epoch - 16ms/step\n",
      "Epoch 67/100\n",
      "2/2 - 0s - loss: 0.0360 - 63ms/epoch - 31ms/step\n",
      "Epoch 68/100\n",
      "2/2 - 0s - loss: 0.0352 - 53ms/epoch - 26ms/step\n",
      "Epoch 69/100\n",
      "2/2 - 0s - loss: 0.0355 - 53ms/epoch - 26ms/step\n",
      "Epoch 70/100\n",
      "2/2 - 0s - loss: 0.0348 - 58ms/epoch - 29ms/step\n",
      "Epoch 71/100\n",
      "2/2 - 0s - loss: 0.0335 - 70ms/epoch - 35ms/step\n",
      "Epoch 72/100\n",
      "2/2 - 0s - loss: 0.0327 - 12ms/epoch - 6ms/step\n",
      "Epoch 73/100\n",
      "2/2 - 0s - loss: 0.0320 - 112ms/epoch - 56ms/step\n",
      "Epoch 74/100\n",
      "2/2 - 0s - loss: 0.0311 - 80ms/epoch - 40ms/step\n",
      "Epoch 75/100\n",
      "2/2 - 0s - loss: 0.0304 - 105ms/epoch - 52ms/step\n",
      "Epoch 76/100\n",
      "2/2 - 0s - loss: 0.0299 - 78ms/epoch - 39ms/step\n",
      "Epoch 77/100\n",
      "2/2 - 0s - loss: 0.0292 - 70ms/epoch - 35ms/step\n",
      "Epoch 78/100\n",
      "2/2 - 0s - loss: 0.0287 - 69ms/epoch - 35ms/step\n",
      "Epoch 79/100\n",
      "2/2 - 0s - loss: 0.0279 - 72ms/epoch - 36ms/step\n",
      "Epoch 80/100\n",
      "2/2 - 0s - loss: 0.0274 - 60ms/epoch - 30ms/step\n",
      "Epoch 81/100\n",
      "2/2 - 0s - loss: 0.0267 - 64ms/epoch - 32ms/step\n",
      "Epoch 82/100\n",
      "2/2 - 0s - loss: 0.0258 - 59ms/epoch - 30ms/step\n",
      "Epoch 83/100\n",
      "2/2 - 0s - loss: 0.0252 - 90ms/epoch - 45ms/step\n",
      "Epoch 84/100\n",
      "2/2 - 0s - loss: 0.0243 - 38ms/epoch - 19ms/step\n",
      "Epoch 85/100\n",
      "2/2 - 0s - loss: 0.0241 - 46ms/epoch - 23ms/step\n",
      "Epoch 86/100\n",
      "2/2 - 0s - loss: 0.0237 - 48ms/epoch - 24ms/step\n",
      "Epoch 87/100\n",
      "2/2 - 0s - loss: 0.0229 - 92ms/epoch - 46ms/step\n",
      "Epoch 88/100\n",
      "2/2 - 0s - loss: 0.0222 - 88ms/epoch - 44ms/step\n",
      "Epoch 89/100\n",
      "2/2 - 0s - loss: 0.0218 - 22ms/epoch - 11ms/step\n",
      "Epoch 90/100\n",
      "2/2 - 0s - loss: 0.0211 - 16ms/epoch - 8ms/step\n",
      "Epoch 91/100\n",
      "2/2 - 0s - loss: 0.0209 - 62ms/epoch - 31ms/step\n",
      "Epoch 92/100\n",
      "2/2 - 0s - loss: 0.0202 - 61ms/epoch - 31ms/step\n",
      "Epoch 93/100\n",
      "2/2 - 0s - loss: 0.0199 - 67ms/epoch - 33ms/step\n",
      "Epoch 94/100\n",
      "2/2 - 0s - loss: 0.0197 - 62ms/epoch - 31ms/step\n",
      "Epoch 95/100\n",
      "2/2 - 0s - loss: 0.0182 - 55ms/epoch - 27ms/step\n",
      "Epoch 96/100\n",
      "2/2 - 0s - loss: 0.0184 - 38ms/epoch - 19ms/step\n",
      "Epoch 97/100\n",
      "2/2 - 0s - loss: 0.0182 - 35ms/epoch - 18ms/step\n",
      "Epoch 98/100\n",
      "2/2 - 0s - loss: 0.0169 - 89ms/epoch - 44ms/step\n",
      "Epoch 99/100\n",
      "2/2 - 0s - loss: 0.0171 - 44ms/epoch - 22ms/step\n",
      "Epoch 100/100\n",
      "2/2 - 0s - loss: 0.0168 - 71ms/epoch - 35ms/step\n"
     ]
    },
    {
     "data": {
      "text/plain": [
       "<keras.callbacks.History at 0x7ff6682c9160>"
      ]
     },
     "execution_count": 89,
     "metadata": {},
     "output_type": "execute_result"
    }
   ],
   "source": [
    "from tensorflow.keras.layers import Conv1D, MaxPooling1D, Flatten\n",
    "\n",
    "model = Sequential()\n",
    "model.add(Conv1D(filters=32, kernel_size=3, activation='relu', input_shape=(X_train.shape[1], X_train.shape[2])))\n",
    "model.add(MaxPooling1D(pool_size=2))\n",
    "model.add(Flatten())\n",
    "model.add(Dense(50, activation='relu'))\n",
    "model.add(Dense(1))\n",
    "model.compile(optimizer='adam', loss='mean_squared_error')\n",
    "\n",
    "model.fit(X_train, y_train, epochs=100, batch_size=64, verbose=2)"
   ]
  },
  {
   "cell_type": "markdown",
   "metadata": {},
   "source": [
    "## Predicción y Evaluación"
   ]
  },
  {
   "cell_type": "code",
   "execution_count": 90,
   "metadata": {},
   "outputs": [
    {
     "name": "stdout",
     "output_type": "stream",
     "text": [
      "1/1 [==============================] - 0s 88ms/step\n",
      "MSE: 27.843614221179557\n"
     ]
    }
   ],
   "source": [
    "# Hacer predicciones\n",
    "predictions = model.predict(X_test)\n",
    "\n",
    "# Concatenar predictions con la parte relevante de X_test para revertir la escala correctamente\n",
    "X_test_last = X_test[:, -1, 1:]  # Esto asume que quieres todas las características excepto la primera\n",
    "predictions_combined = np.concatenate((predictions, X_test_last), axis=1)\n",
    "\n",
    "# Invertir la escala de las predicciones y valores verdaderos para comparar\n",
    "predictions_inverse = scaler.inverse_transform(predictions_combined)[:, 0]\n",
    "y_test_inverse = scaler.inverse_transform(np.concatenate((y_test.reshape(-1, 1), X_test_last), axis=1))[:, 0]\n",
    "\n",
    "# Calcular y mostrar MSE\n",
    "mse = mean_squared_error(y_test_inverse, predictions_inverse)\n",
    "print(f'MSE: {mse}')"
   ]
  },
  {
   "cell_type": "markdown",
   "metadata": {},
   "source": [
    "## Visualización de resultados"
   ]
  },
  {
   "cell_type": "code",
   "execution_count": 91,
   "metadata": {},
   "outputs": [
    {
     "data": {
      "image/png": "[encoded data removed]",
      "text/plain": [
       "<Figure size 1000x600 with 1 Axes>"
      ]
     },
     "metadata": {},
     "output_type": "display_data"
    }
   ],
   "source": [
    "# Visualización de Resultados\n",
    "plt.figure(figsize=(10, 6))\n",
    "plt.plot(y_test_inverse, label='Real')\n",
    "plt.plot(predictions_inverse, label='Predicción')\n",
    "plt.title('Predicción vs Realidad')\n",
    "plt.xlabel('Tiempo')\n",
    "plt.ylabel('Ventas')\n",
    "plt.legend()\n",
    "plt.show()"
   ]
  },
  {
   "cell_type": "markdown",
   "metadata": {},
   "source": [
    "## Predicciones futuras"
   ]
  },
  {
   "cell_type": "code",
   "execution_count": 92,
   "metadata": {},
   "outputs": [],
   "source": [
    "# Obtener el último bloque de datos del dataset para iniciar las predicciones\n",
    "last_block = item_data_scaled[-look_back:]\n",
    "last_block = last_block.reshape(1, look_back, last_block.shape[1])"
   ]
  },
  {
   "cell_type": "code",
   "execution_count": 95,
   "metadata": {},
   "outputs": [
    {
     "name": "stdout",
     "output_type": "stream",
     "text": [
      "1/1 [==============================] - ETA: 0s"
     ]
    },
    {
     "name": "stdout",
     "output_type": "stream",
     "text": [
      "1/1 [==============================] - 0s 55ms/step\n",
      "1/1 [==============================] - 0s 77ms/step\n",
      "1/1 [==============================] - 0s 74ms/step\n",
      "1/1 [==============================] - 0s 80ms/step\n",
      "1/1 [==============================] - 0s 62ms/step\n",
      "1/1 [==============================] - 0s 53ms/step\n",
      "1/1 [==============================] - 0s 62ms/step\n",
      "1/1 [==============================] - 0s 59ms/step\n",
      "1/1 [==============================] - 0s 43ms/step\n",
      "1/1 [==============================] - 0s 62ms/step\n",
      "1/1 [==============================] - 0s 37ms/step\n",
      "1/1 [==============================] - 0s 46ms/step\n",
      "1/1 [==============================] - 0s 90ms/step\n",
      "1/1 [==============================] - 0s 41ms/step\n",
      "1/1 [==============================] - 0s 72ms/step\n",
      "1/1 [==============================] - 0s 39ms/step\n",
      "1/1 [==============================] - 0s 37ms/step\n",
      "1/1 [==============================] - 0s 53ms/step\n",
      "1/1 [==============================] - 0s 54ms/step\n",
      "1/1 [==============================] - 0s 58ms/step\n",
      "1/1 [==============================] - 0s 57ms/step\n",
      "1/1 [==============================] - 0s 49ms/step\n",
      "1/1 [==============================] - 0s 56ms/step\n",
      "1/1 [==============================] - 0s 44ms/step\n",
      "1/1 [==============================] - 0s 73ms/step\n"
     ]
    }
   ],
   "source": [
    "future_days = 25\n",
    "future_predictions = []\n",
    "\n",
    "# Copiar el último bloque para usarlo recursivamente\n",
    "current_block = last_block.copy()\n",
    "\n",
    "for i in range(future_days):\n",
    "    # Hacer la predicción utilizando el bloque actual\n",
    "    current_prediction = model.predict(current_block)\n",
    "    future_predictions.append(current_prediction[0, 0])\n",
    "    \n",
    "    # Preparar nueva entrada para el modelo\n",
    "    new_input = np.zeros((1, 1, num_features))\n",
    "    new_input[0, 0, 0] = current_prediction\n",
    "    new_input[0, 0, 1:] = current_block[0, -1, 1:]  # mantener características adicionales\n",
    "    \n",
    "    # Actualizar el bloque para la siguiente predicción\n",
    "    current_block = np.append(current_block[:, 1:, :], new_input, axis=1)\n",
    "\n",
    "placeholder = np.zeros((len(future_predictions), num_features))\n",
    "\n",
    "# Colocar las predicciones en la columna que corresponde a las ventas\n",
    "# Asumiendo que la columna de 'quantity' es la primera, ajustamos esa columna\n",
    "placeholder[:, 0] = future_predictions\n",
    "\n",
    "# Revertir la escala de las predicciones\n",
    "future_predictions_scaled = scaler.inverse_transform(placeholder)[:, 0]"
   ]
  },
  {
   "cell_type": "code",
   "execution_count": 96,
   "metadata": {},
   "outputs": [
    {
     "data": {
      "image/png": "[encoded data removed]",
      "text/plain": [
       "<Figure size 1000x600 with 1 Axes>"
      ]
     },
     "metadata": {},
     "output_type": "display_data"
    }
   ],
   "source": [
    "plt.figure(figsize=(10, 6))\n",
    "plt.plot(range(len(future_predictions_scaled)), future_predictions_scaled, label='Predicciones Futuras')\n",
    "plt.title('Predicciones de Ventas Futuras para Sandwich')\n",
    "plt.xlabel('Días en el Futuro')\n",
    "plt.ylabel('Ventas Predichas')\n",
    "plt.legend()\n",
    "plt.show()"
   ]
  },
  {
   "cell_type": "code",
   "execution_count": null,
   "metadata": {},
   "outputs": [],
   "source": []
  }
 ],
 "metadata": {
  "kernelspec": {
   "display_name": "restaurant",
   "language": "python",
   "name": "python3"
  },
  "language_info": {
   "codemirror_mode": {
    "name": "ipython",
    "version": 3
   },
   "file_extension": ".py",
   "mimetype": "text/x-python",
   "name": "python",
   "nbconvert_exporter": "python",
   "pygments_lexer": "ipython3",
   "version": "3.8.18"
  }
 },
 "nbformat": 4,
 "nbformat_minor": 2
}
